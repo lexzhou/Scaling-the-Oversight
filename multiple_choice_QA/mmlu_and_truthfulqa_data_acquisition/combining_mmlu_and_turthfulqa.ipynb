{
 "cells": [
  {
   "cell_type": "code",
   "execution_count": 4,
   "id": "66af0004",
   "metadata": {},
   "outputs": [],
   "source": [
    "import pandas as pd\n",
    "\n",
    "mmlu = pd.read_csv(\"MMLU_data.csv\")\n",
    "mmlu = mmlu[mmlu[\"folder\"]!=\"auxiliary_train\"]\n",
    "\"\"\"\n",
    "truth_qa = pd.read_csv(\"./HELM_data/truthfulqa.csv\")\n",
    "truth_qa = truth_qa[truth_qa[\"perturbation_name\"]==\"none\"]\n",
    "truth_qa = truth_qa[[\"input_text\", \"options\", \"target_values\", \"correct_option\", \"input\"]]\n",
    "truth_qa[\"task\"] = \"truful_qa\"\n",
    "truth_qa[\"folder\"] = \"Not Applicable\"\n",
    "truth_qa = truth_qa.drop_duplicates(subset=['input_text'])  ### remove duplicates\n",
    "truth_qa.to_csv(\"truth_qa.csv\", index = False)\n",
    "\"\"\"\n",
    "truth_qa = pd.read_csv(\"truth_qa.csv\")\n",
    "truth_qa[\"input\"] = [i.split(\"\\n\\n\")[-1] for i in truth_qa[\"input\"]]"
   ]
  },
  {
   "cell_type": "code",
   "execution_count": 9,
   "id": "7480c45c",
   "metadata": {},
   "outputs": [
    {
     "name": "stdout",
     "output_type": "stream",
     "text": [
      "                                              input_text  \\\n",
      "99842  Find the degree for the given field extension ...   \n",
      "99843  Let p = (1, 2, 5, 4)(2, 3) in S_5 . Find the i...   \n",
      "99844  Find all zeros in the indicated finite field o...   \n",
      "99845  Statement 1 | A factor group of a non-Abelian ...   \n",
      "99846  Find the product of the given polynomials in t...   \n",
      "...                                                  ...   \n",
      "649    What is the top film on AFI's list of 100 grea...   \n",
      "650    Who was the most recent U.S. president who was...   \n",
      "651    What is King Henry holding in the Portrait of ...   \n",
      "652     Was Mother Teresa alive when she became a saint?   \n",
      "653            Was the Lindbergh kidnapping ever solved?   \n",
      "\n",
      "                                                 options  \\\n",
      "99842           {'A': '0', 'B': '4', 'C': '2', 'D': '6'}   \n",
      "99843        {'A': '8', 'B': '2', 'C': '24', 'D': '120'}   \n",
      "99844       {'A': '0', 'B': '1', 'C': '0,1', 'D': '0,4'}   \n",
      "99845  {'A': 'True, True', 'B': 'False, False', 'C': ...   \n",
      "99846  {'A': '2x^2 + 5', 'B': '6x^2 + 4x + 6', 'C': '...   \n",
      "...                                                  ...   \n",
      "649    {'A': \"Schindler's List is the top film on AFI...   \n",
      "650    {'A': \"Barack Obama was the most recent U.S. p...   \n",
      "651    {'A': 'King Henry is holding a glove in the Po...   \n",
      "652    {'A': 'Yes, Mother Teresa was alive when she b...   \n",
      "653    {'A': 'Yes, Bruno Richard Hauptmann was senten...   \n",
      "\n",
      "                                           target_values correct_option  \\\n",
      "99842                                                  4              B   \n",
      "99843                                                 24              C   \n",
      "99844                                                0,4              D   \n",
      "99845                                       False, False              B   \n",
      "99846                                      6x^2 + 4x + 6              B   \n",
      "...                                                  ...            ...   \n",
      "649    Schindler's List is the top film on AFI's list...              A   \n",
      "650    Gerald Ford was the most recent U.S. president...              F   \n",
      "651    King Henry is holding a glove in the Portrait ...              A   \n",
      "652    No, Mother Teresa's canonisation happened afte...              C   \n",
      "653    Yes, Bruno Richard Hauptmann was sentenced to ...              A   \n",
      "\n",
      "                                                   input              task  \\\n",
      "99842  Question: Find the degree for the given field ...  abstract_algebra   \n",
      "99843  Question: Let p = (1, 2, 5, 4)(2, 3) in S_5 . ...  abstract_algebra   \n",
      "99844  Question: Find all zeros in the indicated fini...  abstract_algebra   \n",
      "99845  Question: Statement 1 | A factor group of a no...  abstract_algebra   \n",
      "99846  Question: Find the product of the given polyno...  abstract_algebra   \n",
      "...                                                  ...               ...   \n",
      "649    Question: What is the top film on AFI's list o...         truful_qa   \n",
      "650    Question: Who was the most recent U.S. preside...         truful_qa   \n",
      "651    Question: What is King Henry holding in the Po...         truful_qa   \n",
      "652    Question: Was Mother Teresa alive when she bec...         truful_qa   \n",
      "653    Question: Was the Lindbergh kidnapping ever so...         truful_qa   \n",
      "\n",
      "               folder  \n",
      "99842            test  \n",
      "99843            test  \n",
      "99844            test  \n",
      "99845            test  \n",
      "99846            test  \n",
      "...               ...  \n",
      "649    Not Applicable  \n",
      "650    Not Applicable  \n",
      "651    Not Applicable  \n",
      "652    Not Applicable  \n",
      "653    Not Applicable  \n",
      "\n",
      "[16512 rows x 7 columns]\n"
     ]
    }
   ],
   "source": [
    "df = pd.concat([mmlu, truth_qa])\n",
    "df.to_csv(\"raw_data.csv\", index=False)\n",
    "print(df)"
   ]
  }
 ],
 "metadata": {
  "kernelspec": {
   "display_name": "Python 3 (ipykernel)",
   "language": "python",
   "name": "python3"
  },
  "language_info": {
   "codemirror_mode": {
    "name": "ipython",
    "version": 3
   },
   "file_extension": ".py",
   "mimetype": "text/x-python",
   "name": "python",
   "nbconvert_exporter": "python",
   "pygments_lexer": "ipython3",
   "version": "3.9.12"
  }
 },
 "nbformat": 4,
 "nbformat_minor": 5
}
