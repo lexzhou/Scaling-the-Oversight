{
 "cells": [
  {
   "cell_type": "code",
   "execution_count": 2,
   "id": "9e2af986",
   "metadata": {
    "scrolled": true
   },
   "outputs": [],
   "source": [
    "import pandas as pd\n",
    "def prob_to_cat_scale(prob):\n",
    "    prob = 1 - prob\n",
    "    if 0.5 < prob <= 0.60:\n",
    "        return \"possible to be\"\n",
    "    elif 0.60 < prob <= 0.70:\n",
    "        return \"likely to be\"\n",
    "    elif 0.70 < prob <= 0.80:\n",
    "        return \"very likely to be\"\n",
    "    elif 0.80 < prob <= 0.90:\n",
    "        return \"highly likely\"\n",
    "    elif 0.90 < prob < 1.00:\n",
    "        return \"extremely likely\"\n",
    "    elif prob == 1:\n",
    "        return \"surely\"\n",
    "    \n",
    "\n",
    "def prob2perc(prob):\n",
    "    return str(int(round((1 - prob)*100, 0)))\n",
    "\n",
    "\n",
    "aux = pd.read_csv(\"MATH_SS_all_scored_assessed.csv\")"
   ]
  },
  {
   "cell_type": "code",
   "execution_count": 3,
   "id": "3eda0753",
   "metadata": {
    "scrolled": true
   },
   "outputs": [],
   "source": [
    "# aux[\"prompt_with_feedback\"] = '<USER>\\n' + 'QUESTION:\\n' + aux[\"question\"] + '\\n\\n<ASSISTANT>\\n' + 'ANSWER:' + aux[\"output\"] + '\\n\\n<USER>' + '\\nFEEDBACK to your ANSWER:' + f'\\nYou (the ASSISTANT) were asked by me (the USER) to answer the previous QUESTION, and you provided with me your ANSWER. However, after consulting with an external expert, your answer is ' + aux[\"AS_prediction_prob\"].map(prob_to_cat_scale) + ' wrong (the specific probability of your ANSWER being wrong is predicted to be ' + aux[\"AS_prediction_prob\"].map(prob2perc) + '%).\\nNow, with this FEEDBACK, please provide a new ANSWER to the QUESTION.' + '\\n\\n<ASSISTANT>\\nNEW ANSWER:'\n",
    "aux[\"prompt_with_feedback\"] = '<USER>\\n' + 'QUESTION:\\n' + aux[\"question\"] + '\\n\\n<ASSISTANT>\\n' + 'ANSWER:' + aux[\"output\"] + '\\n\\n<USER>' + '\\nFEEDBACK to your ANSWER:' + f'\\nYou (the ASSISTANT) were asked by me (the USER) to answer the previous QUESTION, and you provided with me your ANSWER. However, after consulting with an external expert, your answer is incorrect.\\nNow, with this FEEDBACK, please provide a new ANSWER to the QUESTION.' + '\\n\\n<ASSISTANT>\\nNEW ANSWER:'"
   ]
  },
  {
   "cell_type": "code",
   "execution_count": 8,
   "id": "be2bd2e2",
   "metadata": {},
   "outputs": [],
   "source": [
    "# aux.to_csv(\"MATH_SS_all_scored_assessed.csv\", index=False)"
   ]
  }
 ],
 "metadata": {
  "kernelspec": {
   "display_name": "Python 3 (ipykernel)",
   "language": "python",
   "name": "python3"
  },
  "language_info": {
   "codemirror_mode": {
    "name": "ipython",
    "version": 3
   },
   "file_extension": ".py",
   "mimetype": "text/x-python",
   "name": "python",
   "nbconvert_exporter": "python",
   "pygments_lexer": "ipython3",
   "version": "3.9.12"
  }
 },
 "nbformat": 4,
 "nbformat_minor": 5
}
